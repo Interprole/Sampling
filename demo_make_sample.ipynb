{
 "cells": [
  {
   "cell_type": "markdown",
   "metadata": {},
   "source": [
    "# Language Sampling with Advanced Filtering\n",
    "\n",
    "Этот notebook демонстрирует возможности системы создания языковых выборок с расширенной фильтрацией.\n",
    "\n",
    "## Функциональность:\n",
    "- 📍 Фильтрация по макроареалам\n",
    "- 📚 Фильтрация по языкам документации (Sources' Languages)\n",
    "- 🔤 Фильтрация по WALS фичам\n",
    "- 📊 Фильтрация по Grambank фичам\n",
    "- ✅ Обязательное включение языков\n",
    "- ❌ Исключение языков\n",
    "- 🔄 4 алгоритма сэмплинга"
   ]
  },
  {
   "cell_type": "code",
   "execution_count": 1,
   "metadata": {},
   "outputs": [
    {
     "name": "stdout",
     "output_type": "stream",
     "text": [
      "✓ Модули загружены успешно\n"
     ]
    }
   ],
   "source": [
    "# Импорты\n",
    "from make_sample import GenusSample, SamplingResult\n",
    "from database import (\n",
    "    get_all_features, \n",
    "    get_feature_values, \n",
    "    get_all_document_language_codes,\n",
    "    get_document_languages\n",
    ")\n",
    "\n",
    "print(\"✓ Модули загружены успешно\")"
   ]
  },
  {
   "cell_type": "markdown",
   "metadata": {},
   "source": [
    "## 1. Базовая выборка без фильтров\n",
    "\n",
    "Создаём простую выборку - один язык из каждого рода."
   ]
  },
  {
   "cell_type": "code",
   "execution_count": 2,
   "metadata": {},
   "outputs": [
    {
     "name": "stdout",
     "output_type": "stream",
     "text": [
      "📊 Выбрано языков: 2313\n",
      "📊 Охвачено родов: 2313\n",
      "\n",
      "Примеры языков:\n",
      "  • Adyghe (Eurasia)\n",
      "  • Siwi (Africa)\n",
      "  • Mofu-Gudur (Africa)\n",
      "  • Somrai (Africa)\n",
      "  • Herde (Africa)\n"
     ]
    }
   ],
   "source": [
    "# Базовая выборка\n",
    "sampler = GenusSample()\n",
    "result = sampler.genus_sample()\n",
    "\n",
    "print(f\"📊 Выбрано языков: {len(result.languages)}\")\n",
    "print(f\"📊 Охвачено родов: {len(result.included_genera)}\")\n",
    "print(f\"\\nПримеры языков:\")\n",
    "for lang in result.languages[:5]:\n",
    "    print(f\"  • {lang.name} ({lang.macroarea.name if lang.macroarea else 'Unknown'})\")"
   ]
  },
  {
   "cell_type": "markdown",
   "metadata": {},
   "source": [
    "## 2. Фильтрация по макроареалам\n",
    "\n",
    "Выбираем языки только из определённых регионов."
   ]
  },
  {
   "cell_type": "code",
   "execution_count": 3,
   "metadata": {},
   "outputs": [
    {
     "name": "stdout",
     "output_type": "stream",
     "text": [
      "📊 Выбрано языков: 30\n",
      "📍 Макроареалы: {'Africa', 'Eurasia'}\n",
      "\n",
      "Примеры:\n",
      "  • Tsotsitaal (Africa)\n",
      "  • Gail (Africa)\n",
      "  • Meroitic (Africa)\n",
      "  • Kiong (Africa)\n",
      "  • Yeni (Africa)\n"
     ]
    }
   ],
   "source": [
    "# Фильтр по макроареалам: только Африка и Евразия\n",
    "sampler = GenusSample(macroareas=['Africa', 'Eurasia'])\n",
    "result = sampler.primary_sample(sample_size=30)\n",
    "\n",
    "print(f\"📊 Выбрано языков: {len(result.languages)}\")\n",
    "macroareas = {lang.macroarea.name for lang in result.languages if lang.macroarea}\n",
    "print(f\"📍 Макроареалы: {macroareas}\")\n",
    "print(f\"\\nПримеры:\")\n",
    "for lang in result.languages[:5]:\n",
    "    print(f\"  • {lang.name} ({lang.macroarea.name if lang.macroarea else 'Unknown'})\")"
   ]
  },
  {
   "cell_type": "markdown",
   "metadata": {},
   "source": [
    "## 3. Фильтрация по языкам документации\n",
    "\n",
    "Выбираем языки, для которых есть источники на определённых языках (например, на английском)."
   ]
  },
  {
   "cell_type": "code",
   "execution_count": 4,
   "metadata": {},
   "outputs": [
    {
     "name": "stdout",
     "output_type": "stream",
     "text": [
      "📚 Доступно языков документации: 19\n",
      "Примеры: ['bel', 'cmn', 'deu', 'eng', 'fra', 'glg', 'ind', 'isl', 'ita', 'jpn']\n"
     ]
    }
   ],
   "source": [
    "# Сначала посмотрим, какие языки документации доступны\n",
    "doc_langs = get_all_document_language_codes()\n",
    "print(f\"📚 Доступно языков документации: {len(doc_langs)}\")\n",
    "print(f\"Примеры: {sorted(doc_langs)[:10]}\")"
   ]
  },
  {
   "cell_type": "code",
   "execution_count": 5,
   "metadata": {},
   "outputs": [
    {
     "name": "stdout",
     "output_type": "stream",
     "text": [
      "📊 Выбрано языков: 4\n",
      "\n",
      "Примеры языков с английской документацией:\n",
      "  • Biafada - документация на: ['eng']\n",
      "  • Coptic - документация на: ['eng']\n",
      "  • Ibibio - документация на: ['eng']\n",
      "  • Tegali - документация на: ['deu', 'eng']\n"
     ]
    }
   ],
   "source": [
    "# Фильтр по языку документации: только языки с источниками на английском\n",
    "sampler = GenusSample(\n",
    "    doc_languages=['eng'],\n",
    "    macroareas=['Africa']\n",
    ")\n",
    "result = sampler.primary_sample(sample_size=20)\n",
    "\n",
    "print(f\"📊 Выбрано языков: {len(result.languages)}\")\n",
    "print(f\"\\nПримеры языков с английской документацией:\")\n",
    "for lang in result.languages[:5]:\n",
    "    doc_langs = get_document_languages(lang.glottocode)\n",
    "    print(f\"  • {lang.name} - документация на: {doc_langs}\")"
   ]
  },
  {
   "cell_type": "markdown",
   "metadata": {},
   "source": [
    "## 4. Фильтрация по WALS фичам\n",
    "\n",
    "Выбираем языки с определёнными лингвистическими характеристиками из WALS."
   ]
  },
  {
   "cell_type": "code",
   "execution_count": 6,
   "metadata": {},
   "outputs": [
    {
     "name": "stdout",
     "output_type": "stream",
     "text": [
      "📊 Всего WALS фичей: 192\n",
      "\n",
      "Примеры фичей:\n",
      "  • 1A: Consonant Inventories\n",
      "    Значений: 5\n",
      "  • 2A: Vowel Quality Inventories\n",
      "    Значений: 3\n",
      "  • 3A: Consonant-Vowel Ratio\n",
      "    Значений: 5\n"
     ]
    }
   ],
   "source": [
    "# Посмотрим доступные WALS фичи\n",
    "wals_features = get_all_features(source='WALS')\n",
    "print(f\"📊 Всего WALS фичей: {len(wals_features)}\")\n",
    "print(\"\\nПримеры фичей:\")\n",
    "for feature in wals_features[:3]:\n",
    "    values = get_feature_values(feature.code)\n",
    "    print(f\"  • {feature.code}: {feature.name}\")\n",
    "    print(f\"    Значений: {len(values)}\")"
   ]
  },
  {
   "cell_type": "code",
   "execution_count": 7,
   "metadata": {},
   "outputs": [
    {
     "name": "stdout",
     "output_type": "stream",
     "text": [
      "📊 Выбрано языков с SOV порядком: 2\n",
      "\n",
      "Примеры:\n",
      "  • Wakhi (Eurasia)\n",
      "  • West Itelmen (Eurasia)\n"
     ]
    }
   ],
   "source": [
    "# Фильтр по WALS: языки с SOV порядком слов\n",
    "sampler = GenusSample(\n",
    "    wals_features={'81A': ['1.0']},  # SOV word order\n",
    "    macroareas=['Eurasia']\n",
    ")\n",
    "result = sampler.primary_sample(sample_size=15)\n",
    "\n",
    "print(f\"📊 Выбрано языков с SOV порядком: {len(result.languages)}\")\n",
    "print(\"\\nПримеры:\")\n",
    "for lang in result.languages[:5]:\n",
    "    print(f\"  • {lang.name} ({lang.macroarea.name if lang.macroarea else 'Unknown'})\")"
   ]
  },
  {
   "cell_type": "markdown",
   "metadata": {},
   "source": [
    "## 5. Фильтрация по Grambank фичам\n",
    "\n",
    "Выбираем языки по характеристикам из Grambank."
   ]
  },
  {
   "cell_type": "code",
   "execution_count": 8,
   "metadata": {},
   "outputs": [
    {
     "name": "stdout",
     "output_type": "stream",
     "text": [
      "📊 Выбрано языков с артиклями: 1\n",
      "\n",
      "Примеры:\n",
      "  • Tera (Africa)\n"
     ]
    }
   ],
   "source": [
    "# Фильтр по Grambank: языки с артиклями\n",
    "sampler = GenusSample(\n",
    "    grambank_features={\n",
    "        'GB020': ['1'],  # Has definite/specific articles\n",
    "        'GB021': ['1']   # Has indefinite articles\n",
    "    }\n",
    ")\n",
    "result = sampler.primary_sample(sample_size=20)\n",
    "\n",
    "print(f\"📊 Выбрано языков с артиклями: {len(result.languages)}\")\n",
    "print(\"\\nПримеры:\")\n",
    "for lang in result.languages[:5]:\n",
    "    print(f\"  • {lang.name} ({lang.macroarea.name if lang.macroarea else 'Unknown'})\")"
   ]
  },
  {
   "cell_type": "markdown",
   "metadata": {},
   "source": [
    "## 6. Комбинированные фильтры\n",
    "\n",
    "Можно комбинировать любые фильтры для точной настройки выборки."
   ]
  },
  {
   "cell_type": "code",
   "execution_count": 9,
   "metadata": {},
   "outputs": [
    {
     "name": "stdout",
     "output_type": "stream",
     "text": [
      "📊 Выбрано языков с комбинированными фильтрами: 13\n",
      "\n",
      "Примеры:\n",
      "  • Abkhaz - Northwest Caucasian\n",
      "  • Lishanid Noshan - Semitic\n",
      "  • Odia - Indic\n",
      "  • Western Farsi - Iranian\n",
      "  • Bunan - Bodic\n",
      "  • Nocte Naga - Brahmaputran\n",
      "  • Lepcha - Himalayish\n",
      "  • Angami Naga - Angami-Pochuri\n",
      "  • Mizo - Kuki-Chin\n",
      "  • East-Central Tangkhul Naga - Tangkhul-Maring\n"
     ]
    }
   ],
   "source": [
    "# Комплексный фильтр: Евразия + английская документация + SOV + артикли\n",
    "sampler = GenusSample(\n",
    "    macroareas=['Eurasia'],\n",
    "    doc_languages=['eng'],\n",
    "    wals_features={'81A': ['1.0']},  # SOV\n",
    "    grambank_features={'GB020': ['1']}  # Has articles\n",
    ")\n",
    "result = sampler.genus_sample()\n",
    "\n",
    "print(f\"📊 Выбрано языков с комбинированными фильтрами: {len(result.languages)}\")\n",
    "print(\"\\nПримеры:\")\n",
    "for lang in result.languages[:10]:\n",
    "    print(f\"  • {lang.name} - {lang.genus.name if lang.genus else 'Unknown genus'}\")"
   ]
  },
  {
   "cell_type": "markdown",
   "metadata": {},
   "source": [
    "## 7. Включение и исключение языков\n",
    "\n",
    "Можно обязательно включить определённые языки или исключить их из выборки."
   ]
  },
  {
   "cell_type": "code",
   "execution_count": 10,
   "metadata": {},
   "outputs": [
    {
     "name": "stdout",
     "output_type": "stream",
     "text": [
      "📊 Выбрано языков: 20\n",
      "✓ stan1293 включён: True\n",
      "✓ russ1263 включён: True\n",
      "✗ fren1241 исключён: True\n"
     ]
    }
   ],
   "source": [
    "# Обязательное включение определённых языков\n",
    "sampler = GenusSample(\n",
    "    include_languages=['stan1293', 'russ1263'],  # Русский и какой-то другой\n",
    "    exclude_languages=['fren1241'],  # Исключить французский\n",
    "    macroareas=['Eurasia']\n",
    ")\n",
    "result = sampler.primary_sample(sample_size=20)\n",
    "\n",
    "glottocodes = [lang.glottocode for lang in result.languages]\n",
    "print(f\"📊 Выбрано языков: {len(result.languages)}\")\n",
    "print(f\"✓ stan1293 включён: {'stan1293' in glottocodes}\")\n",
    "print(f\"✓ russ1263 включён: {'russ1263' in glottocodes}\")\n",
    "print(f\"✗ fren1241 исключён: {'fren1241' not in glottocodes}\")"
   ]
  },
  {
   "cell_type": "markdown",
   "metadata": {},
   "source": [
    "## 8. Различные алгоритмы сэмплинга\n",
    "\n",
    "Доступны 4 алгоритма с разными стратегиями отбора."
   ]
  },
  {
   "cell_type": "code",
   "execution_count": 11,
   "metadata": {},
   "outputs": [
    {
     "name": "stdout",
     "output_type": "stream",
     "text": [
      "1️⃣ Genus Sample: 510 языков из 510 родов\n",
      "2️⃣ Core Sample: 510 языков из 510 родов\n",
      "3️⃣ Restricted Sample: 510 языков из 510 родов\n",
      "4️⃣ Primary Sample (size=30): 30 языков из 30 родов\n"
     ]
    }
   ],
   "source": [
    "# Сравнение разных алгоритмов\n",
    "sampler = GenusSample(macroareas=['Africa'])\n",
    "\n",
    "# 1. genus_sample() - один язык из каждого рода\n",
    "gs = sampler.genus_sample()\n",
    "print(f\"1️⃣ Genus Sample: {len(gs.languages)} языков из {len(gs.included_genera)} родов\")\n",
    "\n",
    "# 2. core_sample() - языки с пригодными источниками\n",
    "cs = sampler.core_sample()\n",
    "print(f\"2️⃣ Core Sample: {len(cs.languages)} языков из {len(cs.included_genera)} родов\")\n",
    "\n",
    "# 3. restricted_sample() - с пропорциональным распределением\n",
    "rs = sampler.restricted_sample()\n",
    "print(f\"3️⃣ Restricted Sample: {len(rs.languages)} языков из {len(rs.included_genera)} родов\")\n",
    "\n",
    "# 4. primary_sample() - фиксированный размер\n",
    "ps = sampler.primary_sample(sample_size=30)\n",
    "print(f\"4️⃣ Primary Sample (size=30): {len(ps.languages)} языков из {len(ps.included_genera)} родов\")"
   ]
  },
  {
   "cell_type": "markdown",
   "metadata": {},
   "source": [
    "## 9. Расширенная выборка (Extended Sample)\n",
    "\n",
    "Можно объединять несколько выборок в одну расширенную."
   ]
  },
  {
   "cell_type": "code",
   "execution_count": 12,
   "metadata": {},
   "outputs": [
    {
     "name": "stdout",
     "output_type": "stream",
     "text": [
      "📊 Выборка 1 (Africa): 10 языков\n",
      "📊 Выборка 2 (Eurasia): 10 языков\n",
      "📊 Расширенная выборка: 20 языков из 20 родов\n"
     ]
    }
   ],
   "source": [
    "# Создаём две выборки и объединяем их\n",
    "sampler1 = GenusSample(macroareas=['Africa'])\n",
    "sample1 = sampler1.primary_sample(sample_size=10)\n",
    "\n",
    "sampler2 = GenusSample(macroareas=['Eurasia'])\n",
    "sample2 = sampler2.primary_sample(sample_size=10)\n",
    "\n",
    "# Объединяем\n",
    "extended = sample1.extend_sample(sample2)\n",
    "\n",
    "print(f\"📊 Выборка 1 (Africa): {len(sample1.languages)} языков\")\n",
    "print(f\"📊 Выборка 2 (Eurasia): {len(sample2.languages)} языков\")\n",
    "print(f\"📊 Расширенная выборка: {len(extended.languages)} языков из {len(extended.included_genera)} родов\")"
   ]
  },
  {
   "cell_type": "markdown",
   "metadata": {},
   "source": [
    "## Заключение\n",
    "\n",
    "Система сэмплинга предоставляет гибкие инструменты для создания языковых выборок с точной настройкой через множество фильтров:\n",
    "\n",
    "✅ **Географические фильтры**: макроареалы  \n",
    "✅ **Документальные фильтры**: языки источников  \n",
    "✅ **Лингвистические фильтры**: WALS и Grambank фичи  \n",
    "✅ **Ручная настройка**: включение/исключение конкретных языков  \n",
    "✅ **4 алгоритма**: от простого до пропорционального распределения  \n",
    "\n",
    "Все фильтры можно комбинировать для максимально точной выборки!"
   ]
  }
 ],
 "metadata": {
  "kernelspec": {
   "display_name": "base",
   "language": "python",
   "name": "python3"
  },
  "language_info": {
   "codemirror_mode": {
    "name": "ipython",
    "version": 3
   },
   "file_extension": ".py",
   "mimetype": "text/x-python",
   "name": "python",
   "nbconvert_exporter": "python",
   "pygments_lexer": "ipython3",
   "version": "3.11.7"
  }
 },
 "nbformat": 4,
 "nbformat_minor": 2
}
